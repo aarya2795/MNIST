{
 "cells": [
  {
   "cell_type": "markdown",
   "metadata": {},
   "source": [
    "<h3> 2(a) Loads the necessary libraries to run (e.g., scikit-learn) </h3>"
   ]
  },
  {
   "cell_type": "code",
   "execution_count": 1,
   "metadata": {
    "collapsed": true
   },
   "outputs": [],
   "source": [
    "import sklearn         \n",
    "import statistics\n",
    "import numpy as np\n",
    "from sklearn.tree import DecisionTreeClassifier  # Importing Decision Tree Classifier\n",
    "# For calculation of accuracy, importing scikit-learn metrics module\n",
    "from sklearn import metrics    \n",
    "# Importing module to get train/test indices for splitting data in train/test sets \n",
    "from sklearn.model_selection import KFold \n",
    "# Importing matrix module to get accuracy score on testing model performance\n",
    "from sklearn.metrics import accuracy_score  "
   ]
  },
  {
   "cell_type": "markdown",
   "metadata": {},
   "source": [
    "<h3> 2(b) Loads the dataset “digits” (see below for description) from the scikit-learn example datasets package </h3>"
   ]
  },
  {
   "cell_type": "code",
   "execution_count": 2,
   "metadata": {
    "collapsed": true
   },
   "outputs": [],
   "source": [
    "# Importing 'digits' dataset from scikit-learn e.g. dataset package for classification \n",
    "from sklearn.datasets import load_digits \n",
    "# Loading dataset to create a bunch lettting Python dictionary to be used like an object\n",
    "digits_dataset = load_digits()                    "
   ]
  },
  {
   "cell_type": "code",
   "execution_count": 3,
   "metadata": {
    "collapsed": true
   },
   "outputs": [],
   "source": [
    "features = digits_dataset.data          # Creating the feature matrix\n",
    "\n",
    "class_labels = digits_dataset.target    # Create target vector having all class labels"
   ]
  },
  {
   "cell_type": "markdown",
   "metadata": {},
   "source": [
    "<h3>2(c) Instantiates a sklearn.tree.DecisionTreeClassifier</h3>"
   ]
  },
  {
   "cell_type": "code",
   "execution_count": 4,
   "metadata": {
    "collapsed": true
   },
   "outputs": [],
   "source": [
    "DT_classifier = DecisionTreeClassifier() # Creating DecisionTreeClassifer object"
   ]
  },
  {
   "cell_type": "markdown",
   "metadata": {},
   "source": [
    "<h3>2(d) Splits dataset in training & testing sets using sklearn.model_selection.KFold cross validation (K = 5)</h3>"
   ]
  },
  {
   "cell_type": "code",
   "execution_count": 5,
   "metadata": {
    "collapsed": true
   },
   "outputs": [],
   "source": [
    "K_Folds = KFold(n_splits=5)     # Using KFold, split dataset in 'k' consecutive folds"
   ]
  },
  {
   "cell_type": "markdown",
   "metadata": {},
   "source": [
    "<h3> 2(e) Trains and tests the performance of the classifier in identifying the digits. </h3>\n",
    "<h3> 2(f).1 Computes the accuracy for each of the K folds of cross validation </h3>"
   ]
  },
  {
   "cell_type": "code",
   "execution_count": 6,
   "metadata": {
    "collapsed": true
   },
   "outputs": [],
   "source": [
    "# Creating list to store accuracy of each fold to take an average of all values\n",
    "accuracy_list = [] \n",
    "\n",
    "for training_index, testing_index in K_Folds.split(features):\n",
    "    # Using 'split' method to generate indices for splitting data in training/testing \n",
    "    # and loop over the indices.\n",
    "    # \n",
    "    # Creating 'feature_train and 'feature_test' ndarrays w.r.t training_index \n",
    "    # and testing_index respectively.\n",
    "    # \n",
    "    # Creating 'label_train and 'label_test' ndarrays w.r.t training_index \n",
    "    # and testing_index respectively. \n",
    "    # \n",
    "    # Trainig the decision tree classifier.  \n",
    "    # \n",
    "    # Predicting response for the test dataset.\n",
    "    # \n",
    "    # Calculating model accuracy for the fold.\n",
    "    # \n",
    "    # Add the accuracy value obtained to the list used to store all accuracies.\n",
    "    #\n",
    "    feature_train, feature_test = features[training_index], features[testing_index]  \n",
    "    label_train, label_test = class_labels[training_index], class_labels[testing_index]\n",
    "    trained_model = DT_classifier.fit(feature_train, label_train)        \n",
    "    label_prediction = trained_model.predict(feature_test)               \n",
    "    accuracy = (accuracy_score(label_test, label_prediction) * 100)      \n",
    "    accuracy_list.append(accuracy)"
   ]
  },
  {
   "cell_type": "markdown",
   "metadata": {},
   "source": [
    "<h3>2(f).2 Outputs the accuracy for each of the K folds of cross validation</h3>"
   ]
  },
  {
   "cell_type": "code",
   "execution_count": 7,
   "metadata": {},
   "outputs": [
    {
     "name": "stdout",
     "output_type": "stream",
     "text": [
      "Accuracy for fold 1 = 77.5\n",
      "Accuracy for fold 2 = 72.22222222222221\n",
      "Accuracy for fold 3 = 81.33704735376045\n",
      "Accuracy for fold 4 = 83.84401114206128\n",
      "Accuracy for fold 5 = 78.27298050139275\n"
     ]
    }
   ],
   "source": [
    "fold_counter = 1            # Creating a variable to keep track of the fold number\n",
    "for accuracy in accuracy_list:\n",
    "    print(\"Accuracy for fold\", fold_counter, \"=\", accuracy)\n",
    "    fold_counter += 1"
   ]
  },
  {
   "cell_type": "markdown",
   "metadata": {},
   "source": [
    "<h3>2(g) Computes and outputs the average accuracy across the K folds</h3>"
   ]
  },
  {
   "cell_type": "code",
   "execution_count": 8,
   "metadata": {},
   "outputs": [
    {
     "name": "stdout",
     "output_type": "stream",
     "text": [
      "Average accuracy across the K folds = 78.63525224388734\n"
     ]
    }
   ],
   "source": [
    "print(\"Average accuracy across the K folds =\", statistics.mean(accuracy_list))"
   ]
  },
  {
   "cell_type": "markdown",
   "metadata": {},
   "source": [
    "<h3>(EXTRA) Testing the performance of the classifier in identifying the digits<br> with given feature ndarray</h3>"
   ]
  },
  {
   "cell_type": "code",
   "execution_count": 9,
   "metadata": {},
   "outputs": [
    {
     "name": "stdout",
     "output_type": "stream",
     "text": [
      "Model identified the given digit-input as digit = 5\n"
     ]
    }
   ],
   "source": [
    "# Passing the feature array of digit '5' as input for prediction\n",
    "model_identified_digit = trained_model.predict([features[5]])                            \n",
    "print(\"Model identified the given digit-input as digit =\", model_identified_digit.item())"
   ]
  },
  {
   "cell_type": "markdown",
   "metadata": {},
   "source": [
    "<h3> Tests the performance of the classifier in identifying the digits (With slight modifications to the feature array of digit '9')</h3>\n",
    "<h6>Original array is:-</h6>\n",
    "&nbsp;&nbsp;&nbsp;&nbsp;&nbsp;&nbsp;&nbsp;&nbsp;&nbsp;&nbsp;&nbsp;&nbsp;&nbsp;&nbsp;&nbsp;&nbsp;&nbsp;&nbsp;&nbsp;&nbsp;&nbsp;&nbsp;&nbsp;&nbsp;&nbsp;&nbsp;&nbsp;&nbsp;&nbsp;&nbsp;&nbsp;&nbsp;&nbsp;&nbsp;&nbsp;&nbsp;&nbsp;&nbsp;\n",
    "                    array([ 0.,  0., 11., 12.,  0.,  0.,  0.,  0.,  0.,  2., 16., 16., 16.,<br>&nbsp;&nbsp;&nbsp;&nbsp;&nbsp;&nbsp;&nbsp;&nbsp;&nbsp;&nbsp;&nbsp;&nbsp;&nbsp;&nbsp;&nbsp;&nbsp;&nbsp;&nbsp;&nbsp;&nbsp;&nbsp;&nbsp;&nbsp;&nbsp;&nbsp;&nbsp;&nbsp;&nbsp;&nbsp;&nbsp;&nbsp;&nbsp;&nbsp;&nbsp;&nbsp;&nbsp;&nbsp;&nbsp;&nbsp;&nbsp;&nbsp;&nbsp;&nbsp;&nbsp;&nbsp;&nbsp;&nbsp;&nbsp;\n",
    "                           13.,  0.,  0.,  0.,  3., 16., 12., 10., 14.,  0.,  0.,  0.,  1.,                          <br>&nbsp;&nbsp;&nbsp;&nbsp;&nbsp;&nbsp;&nbsp;&nbsp;&nbsp;&nbsp;&nbsp;&nbsp;&nbsp;&nbsp;&nbsp;&nbsp;&nbsp;&nbsp;&nbsp;&nbsp;&nbsp;&nbsp;&nbsp;&nbsp;&nbsp;&nbsp;&nbsp;&nbsp;&nbsp;&nbsp;&nbsp;&nbsp;&nbsp;&nbsp;&nbsp;&nbsp;&nbsp;&nbsp;&nbsp;&nbsp;&nbsp;&nbsp;&nbsp;&nbsp;&nbsp;&nbsp;&nbsp;&nbsp;\n",
    "                           16.,  1., 12., 15.,  0.,  0.,  0.,  0., 13., 16.,  9., 15.,  2.,<br>&nbsp;&nbsp;&nbsp;&nbsp;&nbsp;&nbsp;&nbsp;&nbsp;&nbsp;&nbsp;&nbsp;&nbsp;&nbsp;&nbsp;&nbsp;&nbsp;&nbsp;&nbsp;&nbsp;&nbsp;&nbsp;&nbsp;&nbsp;&nbsp;&nbsp;&nbsp;&nbsp;&nbsp;&nbsp;&nbsp;&nbsp;&nbsp;&nbsp;&nbsp;&nbsp;&nbsp;&nbsp;&nbsp;&nbsp;&nbsp;&nbsp;&nbsp;&nbsp;&nbsp;&nbsp;&nbsp;&nbsp;&nbsp;\n",
    "                            0.,  0.,  0.,  0.,  3.,  0.,  9., 11.,  0.,  0.,  0.,  0.,  0.,<br>&nbsp;&nbsp;&nbsp;&nbsp;&nbsp;&nbsp;&nbsp;&nbsp;&nbsp;&nbsp;&nbsp;&nbsp;&nbsp;&nbsp;&nbsp;&nbsp;&nbsp;&nbsp;&nbsp;&nbsp;&nbsp;&nbsp;&nbsp;&nbsp;&nbsp;&nbsp;&nbsp;&nbsp;&nbsp;&nbsp;&nbsp;&nbsp;&nbsp;&nbsp;&nbsp;&nbsp;&nbsp;&nbsp;&nbsp;&nbsp;&nbsp;&nbsp;&nbsp;&nbsp;&nbsp;&nbsp;&nbsp;&nbsp;\n",
    "                            9., 15.,  4.,  0.,  0.,  0.,  9., 12., 13.,  3.,  0.,  0.])\n",
    "                            \n",
    "<h6>We modify it to the following to test performance:-</h6><br>\n",
    "&nbsp;&nbsp;&nbsp;&nbsp;&nbsp;&nbsp;&nbsp;&nbsp;&nbsp;&nbsp;&nbsp;&nbsp;&nbsp;&nbsp;&nbsp;&nbsp;&nbsp;&nbsp;&nbsp;&nbsp;&nbsp;&nbsp;&nbsp;&nbsp;&nbsp;&nbsp;&nbsp;&nbsp;&nbsp;&nbsp;&nbsp;&nbsp;&nbsp;&nbsp;&nbsp;&nbsp;&nbsp;&nbsp;\n",
    "                    array([ 0.,  0., 10., 12.,  0.,  0.,  0.,  0.,  0.,  1., 16., 15., 16.,<br>&nbsp;&nbsp;&nbsp;&nbsp;&nbsp;&nbsp;&nbsp;&nbsp;&nbsp;&nbsp;&nbsp;&nbsp;&nbsp;&nbsp;&nbsp;&nbsp;&nbsp;&nbsp;&nbsp;&nbsp;&nbsp;&nbsp;&nbsp;&nbsp;&nbsp;&nbsp;&nbsp;&nbsp;&nbsp;&nbsp;&nbsp;&nbsp;&nbsp;&nbsp;&nbsp;&nbsp;&nbsp;&nbsp;&nbsp;&nbsp;&nbsp;&nbsp;&nbsp;&nbsp;&nbsp;&nbsp;&nbsp;&nbsp;\n",
    "                           13.,  0.,  0.,  0.,  3., 15., 12., 12., 14.,  0.,  0.,  0.,  1.,<br>&nbsp;&nbsp;&nbsp;&nbsp;&nbsp;&nbsp;&nbsp;&nbsp;&nbsp;&nbsp;&nbsp;&nbsp;&nbsp;&nbsp;&nbsp;&nbsp;&nbsp;&nbsp;&nbsp;&nbsp;&nbsp;&nbsp;&nbsp;&nbsp;&nbsp;&nbsp;&nbsp;&nbsp;&nbsp;&nbsp;&nbsp;&nbsp;&nbsp;&nbsp;&nbsp;&nbsp;&nbsp;&nbsp;&nbsp;&nbsp;&nbsp;&nbsp;&nbsp;&nbsp;&nbsp;&nbsp;&nbsp;&nbsp;\n",
    "                           16.,  1., 12., 15.,  0.,  0.,  0.,  0., 13., 16.,  10., 15.,  2.,<br>&nbsp;&nbsp;&nbsp;&nbsp;&nbsp;&nbsp;&nbsp;&nbsp;&nbsp;&nbsp;&nbsp;&nbsp;&nbsp;&nbsp;&nbsp;&nbsp;&nbsp;&nbsp;&nbsp;&nbsp;&nbsp;&nbsp;&nbsp;&nbsp;&nbsp;&nbsp;&nbsp;&nbsp;&nbsp;&nbsp;&nbsp;&nbsp;&nbsp;&nbsp;&nbsp;&nbsp;&nbsp;&nbsp;&nbsp;&nbsp;&nbsp;&nbsp;&nbsp;&nbsp;&nbsp;&nbsp;&nbsp;&nbsp;\n",
    "                            0.,  0.,  0.,  0.,  3.,  0.,  9., 11.,  0.,  0.,  0.,  0.,  0.,<br>&nbsp;&nbsp;&nbsp;&nbsp;&nbsp;&nbsp;&nbsp;&nbsp;&nbsp;&nbsp;&nbsp;&nbsp;&nbsp;&nbsp;&nbsp;&nbsp;&nbsp;&nbsp;&nbsp;&nbsp;&nbsp;&nbsp;&nbsp;&nbsp;&nbsp;&nbsp;&nbsp;&nbsp;&nbsp;&nbsp;&nbsp;&nbsp;&nbsp;&nbsp;&nbsp;&nbsp;&nbsp;&nbsp;&nbsp;&nbsp;&nbsp;&nbsp;&nbsp;&nbsp;&nbsp;&nbsp;&nbsp;&nbsp;\n",
    "                            10., 15.,  5.,  1.,  0.,  0.,  10., 12., 13.,  1.,  0.,  0.])\n",
    "                            "
   ]
  },
  {
   "cell_type": "code",
   "execution_count": 10,
   "metadata": {
    "collapsed": true
   },
   "outputs": [],
   "source": [
    "'''2(e) Tests the performance of the classifier in identifying the digits.\n",
    "        (With slight modifications to the feature array of digit '9')\n",
    "\n",
    "Original array is:-\n",
    "\n",
    "   array([ 0., 0., 11., 12., 0., 0., 0., 0., 0., 2., 16., 16., 16.,\n",
    "          13., 0., 0., 0., 3., 16., 12., 10., 14., 0., 0., 0., 1.,\n",
    "          16., 1., 12., 15., 0., 0., 0., 0., 13., 16., 9., 15., 2.,\n",
    "           0., 0., 0., 0., 3., 0., 9., 11., 0., 0., 0., 0., 0.,\n",
    "           9., 15., 4., 0., 0., 0., 9., 12., 13., 3., 0., 0.])\n",
    "   \n",
    "   \n",
    "We modify it to the following to test performance:-\n",
    "\n",
    "   array([ 0., 0., 10., 12., 0., 0., 0., 0., 0., 1., 16., 15., 16.,\n",
    "         13., 0., 0., 0., 3., 15., 12., 12., 14., 0., 0., 0., 1.,\n",
    "         16., 1., 12., 15., 0., 0., 0., 0., 13., 16., 10., 15., 2.,\n",
    "          0., 0., 0., 0., 3., 0., 9., 11., 0., 0., 0., 0., 0.,\n",
    "         10., 15., 5., 1., 0., 0., 10., 12., 13., 1., 0., 0.])\n",
    "'''\n",
    "\n",
    "modified_array = np.array([ 0.,  0., 11., 12.,  0.,  0.,  0.,  0.,  0.,  1., 16., 15., 16.,\n",
    "                            13.,  0.,  0.,  0.,  2., 16., 12., 11., 14.,  0.,  0.,  0.,  1.,\n",
    "                            16.,  1., 11., 15.,  0.,  0.,  0.,  0., 13., 16.,  8., 15.,  1.,\n",
    "                             0.,  0.,  0.,  0.,  3.,  0.,  9., 10.,  0.,  0.,  0.,  0.,  0.,\n",
    "                             8., 15.,  5.,  1.,  0.,  0.,  10., 12., 13.,  2.,  0.,  0.])"
   ]
  },
  {
   "cell_type": "code",
   "execution_count": 11,
   "metadata": {},
   "outputs": [
    {
     "name": "stdout",
     "output_type": "stream",
     "text": [
      "Model identified given digit-input as digit: 9\n"
     ]
    }
   ],
   "source": [
    "# Passing the modified feature array as input for prediction\n",
    "model_identified_digit = trained_model.predict([modified_array])                \n",
    "print(\"Model identified given digit-input as digit:\", model_identified_digit.item())"
   ]
  }
 ],
 "metadata": {
  "kernelspec": {
   "display_name": "Python 3",
   "language": "python",
   "name": "python3"
  },
  "language_info": {
   "codemirror_mode": {
    "name": "ipython",
    "version": 3
   },
   "file_extension": ".py",
   "mimetype": "text/x-python",
   "name": "python",
   "nbconvert_exporter": "python",
   "pygments_lexer": "ipython3",
   "version": "3.6.3"
  }
 },
 "nbformat": 4,
 "nbformat_minor": 2
}
